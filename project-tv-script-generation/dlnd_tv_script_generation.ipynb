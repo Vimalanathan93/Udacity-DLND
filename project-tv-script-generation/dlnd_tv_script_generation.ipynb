{
 "cells": [
  {
   "cell_type": "markdown",
   "metadata": {},
   "source": [
    "# TV Script Generation\n",
    "\n",
    "In this project, you'll generate your own [Seinfeld](https://en.wikipedia.org/wiki/Seinfeld) TV scripts using RNNs.  You'll be using part of the [Seinfeld dataset](https://www.kaggle.com/thec03u5/seinfeld-chronicles#scripts.csv) of scripts from 9 seasons.  The Neural Network you'll build will generate a new ,\"fake\" TV script, based on patterns it recognizes in this training data.\n",
    "\n",
    "## Get the Data\n",
    "\n",
    "The data is already provided for you in `./data/Seinfeld_Scripts.txt` and you're encouraged to open that file and look at the text. \n",
    ">* As a first step, we'll load in this data and look at some samples. \n",
    "* Then, you'll be tasked with defining and training an RNN to generate a new script!"
   ]
  },
  {
   "cell_type": "code",
   "execution_count": 1,
   "metadata": {},
   "outputs": [],
   "source": [
    "\"\"\"\n",
    "DON'T MODIFY ANYTHING IN THIS CELL\n",
    "\"\"\"\n",
    "# load in data\n",
    "import helper\n",
    "data_dir = './data/Seinfeld_Scripts.txt'\n",
    "text = helper.load_data(data_dir)"
   ]
  },
  {
   "cell_type": "markdown",
   "metadata": {},
   "source": [
    "## Explore the Data\n",
    "Play around with `view_line_range` to view different parts of the data. This will give you a sense of the data you'll be working with. You can see, for example, that it is all lowercase text, and each new line of dialogue is separated by a newline character `\\n`."
   ]
  },
  {
   "cell_type": "code",
   "execution_count": 2,
   "metadata": {},
   "outputs": [
    {
     "name": "stdout",
     "output_type": "stream",
     "text": [
      "Dataset Stats\n",
      "Roughly the number of unique words: 46367\n",
      "Number of lines: 109233\n",
      "Average number of words in each line: 5.544240293684143\n",
      "\n",
      "The lines 0 to 10:\n",
      "jerry: do you know what this is all about? do you know, why were here? to be out, this is out...and out is one of the single most enjoyable experiences of life. people...did you ever hear people talking about we should go out? this is what theyre talking about...this whole thing, were all out now, no one is home. not one person here is home, were all out! there are people trying to find us, they dont know where we are. (on an imaginary phone) did you ring?, i cant find him. where did he go? he didnt tell me where he was going. he must have gone out. you wanna go out you get ready, you pick out the clothes, right? you take the shower, you get all ready, get the cash, get your friends, the car, the spot, the reservation...then youre standing around, what do you do? you go we gotta be getting back. once youre out, you wanna get back! you wanna go to sleep, you wanna get up, you wanna go out again tomorrow, right? where ever you are in life, its my feeling, youve gotta go. \n",
      "\n",
      "jerry: (pointing at georges shirt) see, to me, that button is in the worst possible spot. the second button literally makes or breaks the shirt, look at it. its too high! its in no-mans-land. you look like you live with your mother. \n",
      "\n",
      "george: are you through? \n",
      "\n",
      "jerry: you do of course try on, when you buy? \n",
      "\n",
      "george: yes, it was purple, i liked it, i dont actually recall considering the buttons. \n",
      "\n"
     ]
    }
   ],
   "source": [
    "view_line_range = (0, 10)\n",
    "\n",
    "\"\"\"\n",
    "DON'T MODIFY ANYTHING IN THIS CELL THAT IS BELOW THIS LINE\n",
    "\"\"\"\n",
    "import numpy as np\n",
    "\n",
    "print('Dataset Stats')\n",
    "print('Roughly the number of unique words: {}'.format(len({word: None for word in text.split()})))\n",
    "\n",
    "lines = text.split('\\n')\n",
    "print('Number of lines: {}'.format(len(lines)))\n",
    "word_count_line = [len(line.split()) for line in lines]\n",
    "print('Average number of words in each line: {}'.format(np.average(word_count_line)))\n",
    "\n",
    "print()\n",
    "print('The lines {} to {}:'.format(*view_line_range))\n",
    "print('\\n'.join(text.split('\\n')[view_line_range[0]:view_line_range[1]]))"
   ]
  },
  {
   "cell_type": "markdown",
   "metadata": {},
   "source": [
    "---\n",
    "## Implement Pre-processing Functions\n",
    "The first thing to do to any dataset is pre-processing.  Implement the following pre-processing functions below:\n",
    "- Lookup Table\n",
    "- Tokenize Punctuation\n",
    "\n",
    "### Lookup Table\n",
    "To create a word embedding, you first need to transform the words to ids.  In this function, create two dictionaries:\n",
    "- Dictionary to go from the words to an id, we'll call `vocab_to_int`\n",
    "- Dictionary to go from the id to word, we'll call `int_to_vocab`\n",
    "\n",
    "Return these dictionaries in the following **tuple** `(vocab_to_int, int_to_vocab)`"
   ]
  },
  {
   "cell_type": "code",
   "execution_count": 3,
   "metadata": {},
   "outputs": [
    {
     "name": "stdout",
     "output_type": "stream",
     "text": [
      "Tests Passed\n"
     ]
    }
   ],
   "source": [
    "import problem_unittests as tests\n",
    "\n",
    "def create_lookup_tables(text):\n",
    "    \"\"\"\n",
    "    Create lookup tables for vocabulary\n",
    "    :param text: The text of tv scripts split into words\n",
    "    :return: A tuple of dicts (vocab_to_int, int_to_vocab)\n",
    "    \"\"\"\n",
    "    # TODO: Implement Function\n",
    "    vocab_to_int = {char:i for (i,char) in enumerate(set(text))}\n",
    "    int_to_vocab = {v:k for (k,v) in vocab_to_int.items()}\n",
    "    # return tuple\n",
    "    return (vocab_to_int,int_to_vocab)\n",
    "\n",
    "\n",
    "\"\"\"\n",
    "DON'T MODIFY ANYTHING IN THIS CELL THAT IS BELOW THIS LINE\n",
    "\"\"\"\n",
    "tests.test_create_lookup_tables(create_lookup_tables)"
   ]
  },
  {
   "cell_type": "markdown",
   "metadata": {},
   "source": [
    "### Tokenize Punctuation\n",
    "We'll be splitting the script into a word array using spaces as delimiters.  However, punctuations like periods and exclamation marks can create multiple ids for the same word. For example, \"bye\" and \"bye!\" would generate two different word ids.\n",
    "\n",
    "Implement the function `token_lookup` to return a dict that will be used to tokenize symbols like \"!\" into \"||Exclamation_Mark||\".  Create a dictionary for the following symbols where the symbol is the key and value is the token:\n",
    "- Period ( **.** )\n",
    "- Comma ( **,** )\n",
    "- Quotation Mark ( **\"** )\n",
    "- Semicolon ( **;** )\n",
    "- Exclamation mark ( **!** )\n",
    "- Question mark ( **?** )\n",
    "- Left Parentheses ( **(** )\n",
    "- Right Parentheses ( **)** )\n",
    "- Dash ( **-** )\n",
    "- Return ( **\\n** )\n",
    "\n",
    "This dictionary will be used to tokenize the symbols and add the delimiter (space) around it.  This separates each symbols as its own word, making it easier for the neural network to predict the next word. Make sure you don't use a value that could be confused as a word; for example, instead of using the value \"dash\", try using something like \"||dash||\"."
   ]
  },
  {
   "cell_type": "code",
   "execution_count": null,
   "metadata": {},
   "outputs": [],
   "source": []
  },
  {
   "cell_type": "code",
   "execution_count": 4,
   "metadata": {},
   "outputs": [
    {
     "name": "stdout",
     "output_type": "stream",
     "text": [
      "Tests Passed\n"
     ]
    }
   ],
   "source": [
    "def token_lookup():\n",
    "    \"\"\"\n",
    "    Generate a dict to turn punctuation into a token.\n",
    "    :return: Tokenized dictionary where the key is the punctuation and the value is the token\n",
    "    \"\"\"\n",
    "    # TODO: Implement Function\n",
    "    tokens = {\n",
    "        \n",
    "        '.': '||period||',\n",
    "        ',': '||comma||',\n",
    "        '\"': '||quotation_mark||',\n",
    "        ';': '||semicolon||',\n",
    "        '!': '||exclamation_mark||',\n",
    "        '?': '||question_mark||',\n",
    "        '(': '||left_parentheses||',\n",
    "        ')': '||right_Parentheses||',\n",
    "        '-': '||dash||',\n",
    "        '\\n': '||return||'\n",
    " }\n",
    "        \n",
    "    return tokens\n",
    "\n",
    "\"\"\"\n",
    "DON'T MODIFY ANYTHING IN THIS CELL THAT IS BELOW THIS LINE\n",
    "\"\"\"\n",
    "tests.test_tokenize(token_lookup)"
   ]
  },
  {
   "cell_type": "markdown",
   "metadata": {},
   "source": [
    "## Pre-process all the data and save it\n",
    "\n",
    "Running the code cell below will pre-process all the data and save it to file. You're encouraged to lok at the code for `preprocess_and_save_data` in the `helpers.py` file to see what it's doing in detail, but you do not need to change this code."
   ]
  },
  {
   "cell_type": "code",
   "execution_count": 5,
   "metadata": {},
   "outputs": [],
   "source": [
    "\"\"\"\n",
    "DON'T MODIFY ANYTHING IN THIS CELL\n",
    "\"\"\"\n",
    "# pre-process training data\n",
    "helper.preprocess_and_save_data(data_dir, token_lookup, create_lookup_tables)"
   ]
  },
  {
   "cell_type": "markdown",
   "metadata": {},
   "source": [
    "# Check Point\n",
    "This is your first checkpoint. If you ever decide to come back to this notebook or have to restart the notebook, you can start from here. The preprocessed data has been saved to disk."
   ]
  },
  {
   "cell_type": "code",
   "execution_count": 6,
   "metadata": {},
   "outputs": [],
   "source": [
    "\"\"\"\n",
    "DON'T MODIFY ANYTHING IN THIS CELL\n",
    "\"\"\"\n",
    "import helper\n",
    "import problem_unittests as tests\n",
    "\n",
    "int_text, vocab_to_int, int_to_vocab, token_dict = helper.load_preprocess()"
   ]
  },
  {
   "cell_type": "markdown",
   "metadata": {},
   "source": [
    "## Build the Neural Network\n",
    "In this section, you'll build the components necessary to build an RNN by implementing the RNN Module and forward and backpropagation functions.\n",
    "\n",
    "### Check Access to GPU"
   ]
  },
  {
   "cell_type": "code",
   "execution_count": 7,
   "metadata": {},
   "outputs": [],
   "source": [
    "\"\"\"\n",
    "DON'T MODIFY ANYTHING IN THIS CELL\n",
    "\"\"\"\n",
    "import torch\n",
    "\n",
    "# Check for a GPU\n",
    "train_on_gpu = torch.cuda.is_available()\n",
    "if not train_on_gpu:\n",
    "    print('No GPU found. Please use a GPU to train your neural network.')"
   ]
  },
  {
   "cell_type": "markdown",
   "metadata": {},
   "source": [
    "## Input\n",
    "Let's start with the preprocessed input data. We'll use [TensorDataset](http://pytorch.org/docs/master/data.html#torch.utils.data.TensorDataset) to provide a known format to our dataset; in combination with [DataLoader](http://pytorch.org/docs/master/data.html#torch.utils.data.DataLoader), it will handle batching, shuffling, and other dataset iteration functions.\n",
    "\n",
    "You can create data with TensorDataset by passing in feature and target tensors. Then create a DataLoader as usual.\n",
    "```\n",
    "data = TensorDataset(feature_tensors, target_tensors)\n",
    "data_loader = torch.utils.data.DataLoader(data, \n",
    "                                          batch_size=batch_size)\n",
    "```\n",
    "\n",
    "### Batching\n",
    "Implement the `batch_data` function to batch `words` data into chunks of size `batch_size` using the `TensorDataset` and `DataLoader` classes.\n",
    "\n",
    ">You can batch words using the DataLoader, but it will be up to you to create `feature_tensors` and `target_tensors` of the correct size and content for a given `sequence_length`.\n",
    "\n",
    "For example, say we have these as input:\n",
    "```\n",
    "words = [1, 2, 3, 4, 5, 6, 7]\n",
    "sequence_length = 4\n",
    "```\n",
    "\n",
    "Your first `feature_tensor` should contain the values:\n",
    "```\n",
    "[1, 2, 3, 4]\n",
    "```\n",
    "And the corresponding `target_tensor` should just be the next \"word\"/tokenized word value:\n",
    "```\n",
    "5\n",
    "```\n",
    "This should continue with the second `feature_tensor`, `target_tensor` being:\n",
    "```\n",
    "[2, 3, 4, 5]  # features\n",
    "6             # target\n",
    "```"
   ]
  },
  {
   "cell_type": "code",
   "execution_count": 8,
   "metadata": {},
   "outputs": [],
   "source": [
    "from torch.utils.data import TensorDataset, DataLoader\n",
    "\n",
    "\n",
    "def batch_data(words, sequence_length, batch_size):\n",
    "    \"\"\"\n",
    "    Batch the neural network data using DataLoader\n",
    "    :param words: The word ids of the TV scripts\n",
    "    :param sequence_length: The sequence length of each batch\n",
    "    :param batch_size: The size of each batch; the number of sequences in a batch\n",
    "    :return: DataLoader with batched data\n",
    "    \"\"\"\n",
    "    # TODO: Implement function\n",
    "    features = []\n",
    "    target = []\n",
    "    # return a dataloader\n",
    "    for i in range(len(words) - sequence_length):\n",
    "        features.append(words[i:i+sequence_length])\n",
    "        target.append(words[i+sequence_length])\n",
    "    data = TensorDataset(torch.tensor(features),torch.tensor(target))\n",
    "    data_loader = torch.utils.data.DataLoader(data,shuffle=True,batch_size=batch_size,num_workers=8)\n",
    "    return data_loader\n",
    "\n",
    "# there is no test for this function, but you are encouraged to create\n",
    "# print statements and tests of your own\n"
   ]
  },
  {
   "cell_type": "markdown",
   "metadata": {},
   "source": [
    "### Test your dataloader \n",
    "\n",
    "You'll have to modify this code to test a batching function, but it should look fairly similar.\n",
    "\n",
    "Below, we're generating some test text data and defining a dataloader using the function you defined, above. Then, we are getting some sample batch of inputs `sample_x` and targets `sample_y` from our dataloader.\n",
    "\n",
    "Your code should return something like the following (likely in a different order, if you shuffled your data):\n",
    "\n",
    "```\n",
    "torch.Size([10, 5])\n",
    "tensor([[ 28,  29,  30,  31,  32],\n",
    "        [ 21,  22,  23,  24,  25],\n",
    "        [ 17,  18,  19,  20,  21],\n",
    "        [ 34,  35,  36,  37,  38],\n",
    "        [ 11,  12,  13,  14,  15],\n",
    "        [ 23,  24,  25,  26,  27],\n",
    "        [  6,   7,   8,   9,  10],\n",
    "        [ 38,  39,  40,  41,  42],\n",
    "        [ 25,  26,  27,  28,  29],\n",
    "        [  7,   8,   9,  10,  11]])\n",
    "\n",
    "torch.Size([10])\n",
    "tensor([ 33,  26,  22,  39,  16,  28,  11,  43,  30,  12])\n",
    "```\n",
    "\n",
    "### Sizes\n",
    "Your sample_x should be of size `(batch_size, sequence_length)` or (10, 5) in this case and sample_y should just have one dimension: batch_size (10). \n",
    "\n",
    "### Values\n",
    "\n",
    "You should also notice that the targets, sample_y, are the *next* value in the ordered test_text data. So, for an input sequence `[ 28,  29,  30,  31,  32]` that ends with the value `32`, the corresponding output should be `33`."
   ]
  },
  {
   "cell_type": "code",
   "execution_count": 9,
   "metadata": {},
   "outputs": [
    {
     "name": "stdout",
     "output_type": "stream",
     "text": [
      "torch.Size([10, 5])\n",
      "tensor([[ 26,  27,  28,  29,  30],\n",
      "        [ 29,  30,  31,  32,  33],\n",
      "        [  7,   8,   9,  10,  11],\n",
      "        [  8,   9,  10,  11,  12],\n",
      "        [ 15,  16,  17,  18,  19],\n",
      "        [ 28,  29,  30,  31,  32],\n",
      "        [ 31,  32,  33,  34,  35],\n",
      "        [ 33,  34,  35,  36,  37],\n",
      "        [ 17,  18,  19,  20,  21],\n",
      "        [  1,   2,   3,   4,   5]])\n",
      "\n",
      "torch.Size([10])\n",
      "tensor([ 31,  34,  12,  13,  20,  33,  36,  38,  22,   6])\n"
     ]
    }
   ],
   "source": [
    "# test dataloader\n",
    "\n",
    "test_text = range(50)\n",
    "t_loader = batch_data(test_text, sequence_length=5, batch_size=10)\n",
    "\n",
    "data_iter = iter(t_loader)\n",
    "sample_x, sample_y = data_iter.next()\n",
    "\n",
    "print(sample_x.shape)\n",
    "print(sample_x)\n",
    "print()\n",
    "print(sample_y.shape)\n",
    "print(sample_y)"
   ]
  },
  {
   "cell_type": "code",
   "execution_count": 13,
   "metadata": {},
   "outputs": [
    {
     "name": "stdout",
     "output_type": "stream",
     "text": [
      "  % Total    % Received % Xferd  Average Speed   Time    Time     Time  Current\n",
      "                                 Dload  Upload   Total   Spent    Left  Speed\n",
      "100  1540  100  1540    0     0   8782      0 --:--:-- --:--:-- --:--:-- 10065\n"
     ]
    }
   ],
   "source": [
    "!curl -o workspace_utils.py https://s3.amazonaws.com/video.udacity-data.com/topher/2018/May/5b0dea96_workspace-utils/workspace-utils.py"
   ]
  },
  {
   "cell_type": "markdown",
   "metadata": {},
   "source": [
    "---\n",
    "## Build the Neural Network\n",
    "Implement an RNN using PyTorch's [Module class](http://pytorch.org/docs/master/nn.html#torch.nn.Module). You may choose to use a GRU or an LSTM. To complete the RNN, you'll have to implement the following functions for the class:\n",
    " - `__init__` - The initialize function. \n",
    " - `init_hidden` - The initialization function for an LSTM/GRU hidden state\n",
    " - `forward` - Forward propagation function.\n",
    " \n",
    "The initialize function should create the layers of the neural network and save them to the class. The forward propagation function will use these layers to run forward propagation and generate an output and a hidden state.\n",
    "\n",
    "**The output of this model should be the *last* batch of word scores** after a complete sequence has been processed. That is, for each input sequence of words, we only want to output the word scores for a single, most likely, next word.\n",
    "\n",
    "### Hints\n",
    "\n",
    "1. Make sure to stack the outputs of the lstm to pass to your fully-connected layer, you can do this with `lstm_output = lstm_output.contiguous().view(-1, self.hidden_dim)`\n",
    "2. You can get the last batch of word scores by shaping the output of the final, fully-connected layer like so:\n",
    "\n",
    "```\n",
    "# reshape into (batch_size, seq_length, output_size)\n",
    "output = output.view(batch_size, -1, self.output_size)\n",
    "# get last batch\n",
    "out = output[:, -1]\n",
    "```"
   ]
  },
  {
   "cell_type": "code",
   "execution_count": 14,
   "metadata": {},
   "outputs": [
    {
     "name": "stdout",
     "output_type": "stream",
     "text": [
      "Tests Passed\n"
     ]
    }
   ],
   "source": [
    "import torch.nn as nn\n",
    "\n",
    "class RNN(nn.Module):\n",
    "    \n",
    "    def __init__(self, vocab_size, output_size, embedding_dim, hidden_dim, n_layers, dropout=0.5):\n",
    "        \"\"\"\n",
    "        Initialize the PyTorch RNN Module\n",
    "        :param vocab_size: The number of input dimensions of the neural network (the size of the vocabulary)\n",
    "        :param output_size: The number of output dimensions of the neural network\n",
    "        :param embedding_dim: The size of embeddings, should you choose to use them        \n",
    "        :param hidden_dim: The size of the hidden layer outputs\n",
    "        :param dropout: dropout to add in between LSTM/GRU layers\n",
    "        \"\"\"\n",
    "        super(RNN, self).__init__()\n",
    "        # TODO: Implement function\n",
    "        \n",
    "        # set class variables\n",
    "        \n",
    "        # define model layers\n",
    "        self.input_size = vocab_size\n",
    "        self.hidden_dim = hidden_dim\n",
    "        self.output_size = output_size\n",
    "        self.n_layers = n_layers\n",
    "        self.dropout = dropout\n",
    "        self.embed = nn.Embedding(vocab_size,embedding_dim)\n",
    "        self.lstm = nn.LSTM(embedding_dim,hidden_dim,n_layers,dropout=dropout,batch_first = True)\n",
    "        self.fc = nn.Linear(hidden_dim,output_size)\n",
    "    \n",
    "    def forward(self, nn_input, hidden):\n",
    "        \"\"\"\n",
    "        Forward propagation of the neural network\n",
    "        :param nn_input: The input to the neural network\n",
    "        :param hidden: The hidden state        \n",
    "        :return: Two Tensors, the output of the neural network and the latest hidden state\n",
    "        \"\"\"\n",
    "        # TODO: Implement function   \n",
    "        batch_size = nn_input.size(0)\n",
    "        embed_output = self.embed(nn_input)\n",
    "        lstm_out,hidden = self.lstm(embed_output,hidden)\n",
    "        lstm_out = lstm_out.contiguous().view(-1,self.hidden_dim)\n",
    "        out = self.fc(lstm_out)\n",
    "        out = out.view(batch_size,-1,self.output_size)\n",
    "        out=out[:,-1]\n",
    "        # return one batch of output word scores and the hidden state\n",
    "        return out,hidden\n",
    "    \n",
    "    \n",
    "    def init_hidden(self, batch_size):\n",
    "        '''\n",
    "        Initialize the hidden state of an LSTM/GRU\n",
    "        :param batch_size: The batch_size of the hidden state\n",
    "        :return: hidden state of dims (n_layers, batch_size, hidden_dim)\n",
    "        '''\n",
    "        weight =next(self.parameters()).data\n",
    "        # Implement function\n",
    "        \n",
    "        # initialize hidden state with zero weights, and move to GPU if available\n",
    "        if torch.cuda.is_available():\n",
    "            hidden = (weight.new(self.n_layers,batch_size,self.hidden_dim).zero_().cuda(),\n",
    "                     weight.new(self.n_layers,batch_size,self.hidden_dim).zero_().cuda())\n",
    "        else:\n",
    "            hidden = (weight.new(self.n_layers,batch_size,self.hidden_dim).zero_(),\n",
    "                     weight.new(self.n_layers,batch_size,self.hidden_dim).zero_())\n",
    "        return hidden\n",
    "    \n",
    "\n",
    "\"\"\"\n",
    "DON'T MODIFY ANYTHING IN THIS CELL THAT IS BELOW THIS LINE\n",
    "\"\"\"\n",
    "tests.test_rnn(RNN, train_on_gpu)"
   ]
  },
  {
   "cell_type": "markdown",
   "metadata": {},
   "source": [
    "### Define forward and backpropagation\n",
    "\n",
    "Use the RNN class you implemented to apply forward and back propagation. This function will be called, iteratively, in the training loop as follows:\n",
    "```\n",
    "loss = forward_back_prop(decoder, decoder_optimizer, criterion, inp, target)\n",
    "```\n",
    "\n",
    "And it should return the average loss over a batch and the hidden state returned by a call to `RNN(inp, hidden)`. Recall that you can get this loss by computing it, as usual, and calling `loss.item()`.\n",
    "\n",
    "**If a GPU is available, you should move your data to that GPU device, here.**"
   ]
  },
  {
   "cell_type": "code",
   "execution_count": 15,
   "metadata": {},
   "outputs": [
    {
     "name": "stdout",
     "output_type": "stream",
     "text": [
      "Tests Passed\n"
     ]
    }
   ],
   "source": [
    "def forward_back_prop(rnn, optimizer, criterion, inp, target, hidden):\n",
    "    \"\"\"\n",
    "    Forward and backward propagation on the neural network\n",
    "    :param decoder: The PyTorch Module that holds the neural network\n",
    "    :param decoder_optimizer: The PyTorch optimizer for the neural network\n",
    "    :param criterion: The PyTorch loss function\n",
    "    :param inp: A batch of input to the neural network\n",
    "    :param target: The target output for the batch of input\n",
    "    :return: The loss and the latest hidden state Tensor\n",
    "    \"\"\"\n",
    "    \n",
    "    # TODO: Implement Function\n",
    "    if torch.cuda.is_available():\n",
    "        inp,target = inp.cuda(),target.cuda()\n",
    "    # move data to GPU, if available\n",
    "    hidden = tuple([i.data for i in hidden])\n",
    "    rnn.zero_grad()\n",
    "    out,hidden = rnn(inp,hidden)\n",
    "    loss = criterion(out,target)\n",
    "    loss.backward()\n",
    "    nn.utils.clip_grad_norm_(rnn.parameters(),5)\n",
    "    \n",
    "    # perform backpropagation and optimization\n",
    "    optimizer.step()\n",
    "    # return the loss over a batch and the hidden state produced by our model\n",
    "    return loss.item(), hidden\n",
    "\n",
    "# Note that these tests aren't completely extensive.\n",
    "# they are here to act as general checks on the expected outputs of your functions\n",
    "\"\"\"\n",
    "DON'T MODIFY ANYTHING IN THIS CELL THAT IS BELOW THIS LINE\n",
    "\"\"\"\n",
    "tests.test_forward_back_prop(RNN, forward_back_prop, train_on_gpu)"
   ]
  },
  {
   "cell_type": "markdown",
   "metadata": {},
   "source": [
    "## Neural Network Training\n",
    "\n",
    "With the structure of the network complete and data ready to be fed in the neural network, it's time to train it.\n",
    "\n",
    "### Train Loop\n",
    "\n",
    "The training loop is implemented for you in the `train_decoder` function. This function will train the network over all the batches for the number of epochs given. The model progress will be shown every number of batches. This number is set with the `show_every_n_batches` parameter. You'll set this parameter along with other parameters in the next section."
   ]
  },
  {
   "cell_type": "code",
   "execution_count": 24,
   "metadata": {},
   "outputs": [],
   "source": [
    "\"\"\"\n",
    "DON'T MODIFY ANYTHING IN THIS CELL\n",
    "\"\"\"\n",
    "from tqdm import tqdm\n",
    "from workspace_utils import active_session\n",
    "\n",
    "\n",
    "def train_rnn(rnn, batch_size, optimizer, criterion, n_epochs, show_every_n_batches=100):\n",
    "    batch_losses = []\n",
    "    \n",
    "    rnn.train()\n",
    "\n",
    "    print(\"Training for %d epoch(s)...\" % n_epochs)\n",
    "    for epoch_i in tqdm(range(1, n_epochs + 1)):\n",
    "        \n",
    "        # initialize hidden state\n",
    "        hidden = rnn.init_hidden(batch_size)\n",
    "        \n",
    "        for batch_i, (inputs, labels) in enumerate(train_loader, 1):\n",
    "            \n",
    "            # make sure you iterate over completely full batches, only\n",
    "            n_batches = len(train_loader.dataset)//batch_size\n",
    "            if(batch_i > n_batches):\n",
    "                break\n",
    "            \n",
    "            # forward, back prop\n",
    "            loss, hidden = forward_back_prop(rnn, optimizer, criterion, inputs, labels, hidden)          \n",
    "            # record loss\n",
    "            batch_losses.append(loss)\n",
    "\n",
    "            # printing loss stats\n",
    "            if batch_i % show_every_n_batches == 0:\n",
    "                print('Epoch: {:>4}/{:<4}  Loss: {}\\n'.format(\n",
    "                    epoch_i, n_epochs, np.average(batch_losses)))\n",
    "                batch_losses = []\n",
    "\n",
    "    # returns a trained rnn\n",
    "    return rnn"
   ]
  },
  {
   "cell_type": "markdown",
   "metadata": {},
   "source": [
    "### Hyperparameters\n",
    "\n",
    "Set and train the neural network with the following parameters:\n",
    "- Set `sequence_length` to the length of a sequence.\n",
    "- Set `batch_size` to the batch size.\n",
    "- Set `num_epochs` to the number of epochs to train for.\n",
    "- Set `learning_rate` to the learning rate for an Adam optimizer.\n",
    "- Set `vocab_size` to the number of uniqe tokens in our vocabulary.\n",
    "- Set `output_size` to the desired size of the output.\n",
    "- Set `embedding_dim` to the embedding dimension; smaller than the vocab_size.\n",
    "- Set `hidden_dim` to the hidden dimension of your RNN.\n",
    "- Set `n_layers` to the number of layers/cells in your RNN.\n",
    "- Set `show_every_n_batches` to the number of batches at which the neural network should print progress.\n",
    "\n",
    "If the network isn't getting the desired results, tweak these parameters and/or the layers in the `RNN` class."
   ]
  },
  {
   "cell_type": "code",
   "execution_count": 20,
   "metadata": {},
   "outputs": [],
   "source": [
    "# Data params\n",
    "# Sequence Length\n",
    "sequence_length =  32 # of words in a sequence\n",
    "# Batch Size\n",
    "batch_size = 128\n",
    "\n",
    "# data loader - do not change\n",
    "train_loader = batch_data(int_text, sequence_length, batch_size)"
   ]
  },
  {
   "cell_type": "code",
   "execution_count": 21,
   "metadata": {},
   "outputs": [],
   "source": [
    "# Training parameters\n",
    "# Number of Epochs\n",
    "num_epochs = 30\n",
    "# Learning Rate\n",
    "learning_rate = 0.0005\n",
    "\n",
    "# Model parameters\n",
    "# Vocab size\n",
    "vocab_size = len(vocab_to_int)\n",
    "# Output size\n",
    "output_size = vocab_size\n",
    "# Embedding Dimension\n",
    "embedding_dim = 256\n",
    "# Hidden Dimension\n",
    "hidden_dim = 256\n",
    "# Number of RNN Layers\n",
    "n_layers = 3\n",
    "\n",
    "# Show stats for every n number of batches\n",
    "show_every_n_batches = 500"
   ]
  },
  {
   "cell_type": "markdown",
   "metadata": {},
   "source": [
    "### Train\n",
    "In the next cell, you'll train the neural network on the pre-processed data.  If you have a hard time getting a good loss, you may consider changing your hyperparameters. In general, you may get better results with larger hidden and n_layer dimensions, but larger models take a longer time to train. \n",
    "> **You should aim for a loss less than 3.5.** \n",
    "\n",
    "You should also experiment with different sequence lengths, which determine the size of the long range dependencies that a model can learn."
   ]
  },
  {
   "cell_type": "code",
   "execution_count": null,
   "metadata": {},
   "outputs": [
    {
     "name": "stderr",
     "output_type": "stream",
     "text": [
      "\n",
      "  0%|          | 0/30 [00:00<?, ?it/s]"
     ]
    },
    {
     "name": "stdout",
     "output_type": "stream",
     "text": [
      "Training for 30 epoch(s)...\n"
     ]
    },
    {
     "name": "stderr",
     "output_type": "stream",
     "text": [
      "\u001b[A\n",
      "\n",
      "\n",
      "\n",
      "\n",
      "\n",
      "\n",
      "\n",
      "\n"
     ]
    },
    {
     "name": "stdout",
     "output_type": "stream",
     "text": [
      "Epoch:    1/30    Loss: 5.953537424087524\n",
      "\n",
      "Epoch:    1/30    Loss: 5.199837107658386\n",
      "\n",
      "Epoch:    1/30    Loss: 4.9583313245773315\n",
      "\n",
      "Epoch:    1/30    Loss: 4.74512848329544\n",
      "\n",
      "Epoch:    1/30    Loss: 4.69165274810791\n",
      "\n",
      "Epoch:    1/30    Loss: 4.582411173343658\n",
      "\n",
      "Epoch:    1/30    Loss: 4.530147205352783\n",
      "\n",
      "Epoch:    1/30    Loss: 4.481191950798035\n",
      "\n",
      "Epoch:    1/30    Loss: 4.459470741271972\n",
      "\n",
      "Epoch:    1/30    Loss: 4.40465577507019\n",
      "\n",
      "Epoch:    1/30    Loss: 4.383221363067627\n",
      "\n",
      "Epoch:    1/30    Loss: 4.364323173046112\n",
      "\n",
      "Epoch:    1/30    Loss: 4.354030261039734\n",
      "\n"
     ]
    },
    {
     "name": "stderr",
     "output_type": "stream",
     "text": [
      "  3%|▎         | 1/30 [14:13<6:52:17, 853.01s/it]"
     ]
    },
    {
     "name": "stdout",
     "output_type": "stream",
     "text": [
      "Epoch:    2/30    Loss: 4.242714292370744\n",
      "\n",
      "Epoch:    2/30    Loss: 4.17018239402771\n",
      "\n",
      "Epoch:    2/30    Loss: 4.153783295631409\n",
      "\n",
      "Epoch:    2/30    Loss: 4.136279977798462\n",
      "\n",
      "Epoch:    2/30    Loss: 4.11864275932312\n",
      "\n",
      "Epoch:    2/30    Loss: 4.121788383960724\n",
      "\n",
      "Epoch:    2/30    Loss: 4.1021428713798525\n",
      "\n",
      "Epoch:    2/30    Loss: 4.100882353782654\n",
      "\n",
      "Epoch:    2/30    Loss: 4.107127541065216\n",
      "\n",
      "Epoch:    2/30    Loss: 4.096107387065888\n",
      "\n",
      "Epoch:    2/30    Loss: 4.076151418685913\n",
      "\n",
      "Epoch:    2/30    Loss: 4.0540254435539245\n",
      "\n",
      "Epoch:    2/30    Loss: 4.056558194637298\n",
      "\n"
     ]
    },
    {
     "name": "stderr",
     "output_type": "stream",
     "text": [
      "  7%|▋         | 2/30 [28:52<6:41:44, 860.88s/it]"
     ]
    },
    {
     "name": "stdout",
     "output_type": "stream",
     "text": [
      "Epoch:    3/30    Loss: 3.9954907958106483\n",
      "\n",
      "Epoch:    3/30    Loss: 3.9425565857887266\n",
      "\n",
      "Epoch:    3/30    Loss: 3.9213106245994567\n",
      "\n",
      "Epoch:    3/30    Loss: 3.9167117466926573\n",
      "\n",
      "Epoch:    3/30    Loss: 3.90386080121994\n",
      "\n",
      "Epoch:    3/30    Loss: 3.92667116689682\n",
      "\n",
      "Epoch:    3/30    Loss: 3.913003935813904\n",
      "\n",
      "Epoch:    3/30    Loss: 3.901222092628479\n",
      "\n",
      "Epoch:    3/30    Loss: 3.9125028367042542\n",
      "\n",
      "Epoch:    3/30    Loss: 3.8992103333473205\n",
      "\n",
      "Epoch:    3/30    Loss: 3.9193982486724854\n",
      "\n",
      "Epoch:    3/30    Loss: 3.9237143025398256\n",
      "\n",
      "Epoch:    3/30    Loss: 3.931635901927948\n",
      "\n"
     ]
    },
    {
     "name": "stderr",
     "output_type": "stream",
     "text": [
      " 10%|█         | 3/30 [43:05<6:26:22, 858.63s/it]"
     ]
    },
    {
     "name": "stdout",
     "output_type": "stream",
     "text": [
      "Epoch:    4/30    Loss: 3.852229357011793\n",
      "\n",
      "Epoch:    4/30    Loss: 3.8050891857147215\n",
      "\n",
      "Epoch:    4/30    Loss: 3.8187318286895753\n",
      "\n",
      "Epoch:    4/30    Loss: 3.7718096261024474\n",
      "\n",
      "Epoch:    4/30    Loss: 3.770264241218567\n",
      "\n",
      "Epoch:    4/30    Loss: 3.7955603652000427\n",
      "\n",
      "Epoch:    4/30    Loss: 3.784201994895935\n",
      "\n",
      "Epoch:    4/30    Loss: 3.788107623577118\n",
      "\n",
      "Epoch:    4/30    Loss: 3.797271430015564\n",
      "\n",
      "Epoch:    4/30    Loss: 3.797329345226288\n",
      "\n",
      "Epoch:    4/30    Loss: 3.806253830909729\n",
      "\n",
      "Epoch:    4/30    Loss: 3.812298598766327\n",
      "\n",
      "Epoch:    4/30    Loss: 3.802727689743042\n",
      "\n"
     ]
    },
    {
     "name": "stderr",
     "output_type": "stream",
     "text": [
      " 13%|█▎        | 4/30 [57:43<6:14:36, 864.50s/it]"
     ]
    },
    {
     "name": "stdout",
     "output_type": "stream",
     "text": [
      "Epoch:    5/30    Loss: 3.7384865434054126\n",
      "\n",
      "Epoch:    5/30    Loss: 3.6695009703636168\n",
      "\n",
      "Epoch:    5/30    Loss: 3.6874551610946655\n",
      "\n",
      "Epoch:    5/30    Loss: 3.685362955093384\n",
      "\n",
      "Epoch:    5/30    Loss: 3.6725590643882753\n",
      "\n",
      "Epoch:    5/30    Loss: 3.7100112695693968\n",
      "\n",
      "Epoch:    5/30    Loss: 3.710571357727051\n",
      "\n",
      "Epoch:    5/30    Loss: 3.697425477027893\n",
      "\n",
      "Epoch:    5/30    Loss: 3.719692766189575\n",
      "\n",
      "Epoch:    5/30    Loss: 3.698128664970398\n",
      "\n",
      "Epoch:    5/30    Loss: 3.726002028465271\n",
      "\n",
      "Epoch:    5/30    Loss: 3.727807321548462\n",
      "\n",
      "Epoch:    5/30    Loss: 3.7204896397590637\n",
      "\n"
     ]
    },
    {
     "name": "stderr",
     "output_type": "stream",
     "text": [
      " 17%|█▋        | 5/30 [1:11:57<5:58:52, 861.32s/it]"
     ]
    },
    {
     "name": "stdout",
     "output_type": "stream",
     "text": [
      "Epoch:    6/30    Loss: 3.6698276477455476\n",
      "\n",
      "Epoch:    6/30    Loss: 3.5646275010108948\n",
      "\n",
      "Epoch:    6/30    Loss: 3.590862710952759\n",
      "\n",
      "Epoch:    6/30    Loss: 3.6294324951171877\n",
      "\n",
      "Epoch:    6/30    Loss: 3.6104354028701784\n",
      "\n",
      "Epoch:    6/30    Loss: 3.610529538631439\n",
      "\n",
      "Epoch:    6/30    Loss: 3.6238822660446166\n",
      "\n",
      "Epoch:    6/30    Loss: 3.626958607673645\n",
      "\n",
      "Epoch:    6/30    Loss: 3.621484573841095\n",
      "\n",
      "Epoch:    6/30    Loss: 3.6226193056106566\n",
      "\n",
      "Epoch:    6/30    Loss: 3.6541114459037782\n",
      "\n",
      "Epoch:    6/30    Loss: 3.658002100467682\n",
      "\n",
      "Epoch:    6/30    Loss: 3.667737215042114\n",
      "\n"
     ]
    },
    {
     "name": "stderr",
     "output_type": "stream",
     "text": [
      " 20%|██        | 6/30 [1:26:37<5:46:42, 866.77s/it]"
     ]
    },
    {
     "name": "stdout",
     "output_type": "stream",
     "text": [
      "Epoch:    7/30    Loss: 3.5794732693671194\n",
      "\n",
      "Epoch:    7/30    Loss: 3.5463682899475097\n",
      "\n",
      "Epoch:    7/30    Loss: 3.523266100883484\n",
      "\n",
      "Epoch:    7/30    Loss: 3.5411159801483154\n",
      "\n",
      "Epoch:    7/30    Loss: 3.552560224056244\n",
      "\n",
      "Epoch:    7/30    Loss: 3.55966642665863\n",
      "\n",
      "Epoch:    7/30    Loss: 3.560334179401398\n",
      "\n",
      "Epoch:    7/30    Loss: 3.536092694282532\n",
      "\n",
      "Epoch:    7/30    Loss: 3.5834116611480713\n",
      "\n",
      "Epoch:    7/30    Loss: 3.575403305530548\n",
      "\n",
      "Epoch:    7/30    Loss: 3.587728600502014\n",
      "\n",
      "Epoch:    7/30    Loss: 3.5878522720336914\n",
      "\n",
      "Epoch:    7/30    Loss: 3.583400604248047\n",
      "\n"
     ]
    },
    {
     "name": "stderr",
     "output_type": "stream",
     "text": [
      " 23%|██▎       | 7/30 [1:40:51<5:30:46, 862.88s/it]"
     ]
    },
    {
     "name": "stdout",
     "output_type": "stream",
     "text": [
      "Epoch:    8/30    Loss: 3.5337454883921873\n",
      "\n",
      "Epoch:    8/30    Loss: 3.462372189998627\n",
      "\n",
      "Epoch:    8/30    Loss: 3.472190429210663\n",
      "\n",
      "Epoch:    8/30    Loss: 3.473314881324768\n",
      "\n",
      "Epoch:    8/30    Loss: 3.478488851070404\n",
      "\n",
      "Epoch:    8/30    Loss: 3.4994991707801817\n",
      "\n",
      "Epoch:    8/30    Loss: 3.4943327078819273\n",
      "\n",
      "Epoch:    8/30    Loss: 3.500461639881134\n",
      "\n",
      "Epoch:    8/30    Loss: 3.5257844977378845\n",
      "\n",
      "Epoch:    8/30    Loss: 3.5251084384918214\n",
      "\n",
      "Epoch:    8/30    Loss: 3.5280225410461425\n",
      "\n",
      "Epoch:    8/30    Loss: 3.527146436691284\n",
      "\n",
      "Epoch:    8/30    Loss: 3.5578390731811522\n",
      "\n"
     ]
    },
    {
     "name": "stderr",
     "output_type": "stream",
     "text": [
      " 27%|██▋       | 8/30 [1:55:31<5:18:16, 868.03s/it]"
     ]
    },
    {
     "name": "stdout",
     "output_type": "stream",
     "text": [
      "Epoch:    9/30    Loss: 3.487668460367634\n",
      "\n",
      "Epoch:    9/30    Loss: 3.406313817501068\n",
      "\n",
      "Epoch:    9/30    Loss: 3.4371124744415282\n",
      "\n",
      "Epoch:    9/30    Loss: 3.4240428786277772\n",
      "\n",
      "Epoch:    9/30    Loss: 3.444076099395752\n",
      "\n",
      "Epoch:    9/30    Loss: 3.4611661972999572\n",
      "\n",
      "Epoch:    9/30    Loss: 3.454951357841492\n",
      "\n",
      "Epoch:    9/30    Loss: 3.4765474400520326\n",
      "\n",
      "Epoch:    9/30    Loss: 3.4851556677818296\n",
      "\n",
      "Epoch:    9/30    Loss: 3.4760525064468384\n",
      "\n",
      "Epoch:    9/30    Loss: 3.4744198198318483\n",
      "\n",
      "Epoch:    9/30    Loss: 3.4822200961112975\n",
      "\n",
      "Epoch:    9/30    Loss: 3.5000873823165892\n",
      "\n"
     ]
    },
    {
     "name": "stderr",
     "output_type": "stream",
     "text": [
      " 30%|███       | 9/30 [2:09:45<5:02:22, 863.94s/it]"
     ]
    },
    {
     "name": "stdout",
     "output_type": "stream",
     "text": [
      "Epoch:   10/30    Loss: 3.4374954506093625\n",
      "\n",
      "Epoch:   10/30    Loss: 3.4045449776649477\n",
      "\n",
      "Epoch:   10/30    Loss: 3.3810041561126707\n",
      "\n",
      "Epoch:   10/30    Loss: 3.390115671157837\n",
      "\n",
      "Epoch:   10/30    Loss: 3.4120547909736634\n",
      "\n",
      "Epoch:   10/30    Loss: 3.393798038959503\n",
      "\n",
      "Epoch:   10/30    Loss: 3.4096869320869447\n",
      "\n",
      "Epoch:   10/30    Loss: 3.4294102997779845\n",
      "\n",
      "Epoch:   10/30    Loss: 3.4267267990112305\n",
      "\n",
      "Epoch:   10/30    Loss: 3.446013090610504\n",
      "\n",
      "Epoch:   10/30    Loss: 3.4325038628578186\n",
      "\n",
      "Epoch:   10/30    Loss: 3.456198446750641\n",
      "\n",
      "Epoch:   10/30    Loss: 3.4622639031410216\n",
      "\n"
     ]
    },
    {
     "name": "stderr",
     "output_type": "stream",
     "text": [
      " 33%|███▎      | 10/30 [2:24:25<4:49:34, 868.72s/it]"
     ]
    },
    {
     "name": "stdout",
     "output_type": "stream",
     "text": [
      "Epoch:   11/30    Loss: 3.3960902594929507\n",
      "\n",
      "Epoch:   11/30    Loss: 3.343825267314911\n",
      "\n",
      "Epoch:   11/30    Loss: 3.3618866314888\n",
      "\n",
      "Epoch:   11/30    Loss: 3.350920918941498\n",
      "\n",
      "Epoch:   11/30    Loss: 3.3434061579704286\n",
      "\n",
      "Epoch:   11/30    Loss: 3.385610674858093\n",
      "\n",
      "Epoch:   11/30    Loss: 3.368828616142273\n",
      "\n",
      "Epoch:   11/30    Loss: 3.369482639312744\n",
      "\n",
      "Epoch:   11/30    Loss: 3.4016582674980165\n",
      "\n",
      "Epoch:   11/30    Loss: 3.4267741446495057\n",
      "\n",
      "Epoch:   11/30    Loss: 3.411659372806549\n",
      "\n",
      "Epoch:   11/30    Loss: 3.4117858967781065\n",
      "\n",
      "Epoch:   11/30    Loss: 3.4255009684562685\n",
      "\n"
     ]
    },
    {
     "name": "stderr",
     "output_type": "stream",
     "text": [
      " 37%|███▋      | 11/30 [2:38:39<4:33:43, 864.38s/it]"
     ]
    },
    {
     "name": "stdout",
     "output_type": "stream",
     "text": [
      "Epoch:   12/30    Loss: 3.3674233050784337\n",
      "\n",
      "Epoch:   12/30    Loss: 3.2950123624801635\n",
      "\n",
      "Epoch:   12/30    Loss: 3.3076448760032653\n",
      "\n",
      "Epoch:   12/30    Loss: 3.3157617292404176\n",
      "\n",
      "Epoch:   12/30    Loss: 3.336520754814148\n",
      "\n",
      "Epoch:   12/30    Loss: 3.3493055982589723\n",
      "\n",
      "Epoch:   12/30    Loss: 3.344413845062256\n",
      "\n",
      "Epoch:   12/30    Loss: 3.349934257030487\n",
      "\n",
      "Epoch:   12/30    Loss: 3.3554476027488707\n",
      "\n",
      "Epoch:   12/30    Loss: 3.352575839519501\n",
      "\n",
      "Epoch:   12/30    Loss: 3.37268248128891\n",
      "\n",
      "Epoch:   12/30    Loss: 3.3813384985923767\n",
      "\n",
      "Epoch:   12/30    Loss: 3.3901339111328124\n",
      "\n"
     ]
    },
    {
     "name": "stderr",
     "output_type": "stream",
     "text": [
      " 40%|████      | 12/30 [2:53:18<4:20:39, 868.85s/it]"
     ]
    },
    {
     "name": "stdout",
     "output_type": "stream",
     "text": [
      "Epoch:   13/30    Loss: 3.338361711078876\n",
      "\n",
      "Epoch:   13/30    Loss: 3.265438148975372\n",
      "\n",
      "Epoch:   13/30    Loss: 3.272463391780853\n",
      "\n",
      "Epoch:   13/30    Loss: 3.29286075592041\n",
      "\n",
      "Epoch:   13/30    Loss: 3.305274182796478\n",
      "\n",
      "Epoch:   13/30    Loss: 3.2925346326828\n",
      "\n",
      "Epoch:   13/30    Loss: 3.310701020717621\n",
      "\n",
      "Epoch:   13/30    Loss: 3.3146590342521667\n",
      "\n",
      "Epoch:   13/30    Loss: 3.3386180024147034\n",
      "\n",
      "Epoch:   13/30    Loss: 3.326850869655609\n",
      "\n",
      "Epoch:   13/30    Loss: 3.350093596935272\n",
      "\n",
      "Epoch:   13/30    Loss: 3.354546105861664\n",
      "\n",
      "Epoch:   13/30    Loss: 3.3497613973617555\n",
      "\n"
     ]
    },
    {
     "name": "stderr",
     "output_type": "stream",
     "text": [
      " 43%|████▎     | 13/30 [3:07:33<4:04:57, 864.55s/it]"
     ]
    },
    {
     "name": "stdout",
     "output_type": "stream",
     "text": [
      "Epoch:   14/30    Loss: 3.3114790611345826\n",
      "\n",
      "Epoch:   14/30    Loss: 3.23788862657547\n",
      "\n",
      "Epoch:   14/30    Loss: 3.2377460107803344\n",
      "\n",
      "Epoch:   14/30    Loss: 3.2540839133262636\n",
      "\n",
      "Epoch:   14/30    Loss: 3.277641932964325\n",
      "\n",
      "Epoch:   14/30    Loss: 3.288545524597168\n",
      "\n",
      "Epoch:   14/30    Loss: 3.2927146983146667\n",
      "\n",
      "Epoch:   14/30    Loss: 3.2934103660583496\n",
      "\n",
      "Epoch:   14/30    Loss: 3.3209978399276734\n",
      "\n",
      "Epoch:   14/30    Loss: 3.3249436206817626\n",
      "\n",
      "Epoch:   14/30    Loss: 3.2995576982498167\n",
      "\n",
      "Epoch:   14/30    Loss: 3.3324783368110658\n",
      "\n",
      "Epoch:   14/30    Loss: 3.317405837059021\n",
      "\n"
     ]
    },
    {
     "name": "stderr",
     "output_type": "stream",
     "text": [
      " 47%|████▋     | 14/30 [3:22:13<3:51:47, 869.20s/it]"
     ]
    },
    {
     "name": "stdout",
     "output_type": "stream",
     "text": [
      "Epoch:   15/30    Loss: 3.2750222363093076\n",
      "\n",
      "Epoch:   15/30    Loss: 3.207557194232941\n",
      "\n",
      "Epoch:   15/30    Loss: 3.2126724519729613\n",
      "\n",
      "Epoch:   15/30    Loss: 3.2419247670173643\n",
      "\n",
      "Epoch:   15/30    Loss: 3.236738224029541\n",
      "\n",
      "Epoch:   15/30    Loss: 3.257000823020935\n",
      "\n",
      "Epoch:   15/30    Loss: 3.2663816637992857\n",
      "\n",
      "Epoch:   15/30    Loss: 3.2867986664772033\n",
      "\n",
      "Epoch:   15/30    Loss: 3.273063060760498\n",
      "\n",
      "Epoch:   15/30    Loss: 3.2784780921936036\n",
      "\n",
      "Epoch:   15/30    Loss: 3.297523545265198\n",
      "\n",
      "Epoch:   15/30    Loss: 3.3063100519180297\n",
      "\n",
      "Epoch:   15/30    Loss: 3.302955895423889\n",
      "\n"
     ]
    },
    {
     "name": "stderr",
     "output_type": "stream",
     "text": [
      " 50%|█████     | 15/30 [3:36:28<3:36:12, 864.82s/it]"
     ]
    },
    {
     "name": "stdout",
     "output_type": "stream",
     "text": [
      "Epoch:   16/30    Loss: 3.2405215239746283\n",
      "\n",
      "Epoch:   16/30    Loss: 3.2116069416999817\n",
      "\n",
      "Epoch:   16/30    Loss: 3.1991767807006837\n",
      "\n",
      "Epoch:   16/30    Loss: 3.2126284914016723\n",
      "\n",
      "Epoch:   16/30    Loss: 3.226695876121521\n",
      "\n",
      "Epoch:   16/30    Loss: 3.2390148220062254\n",
      "\n",
      "Epoch:   16/30    Loss: 3.233793833255768\n",
      "\n",
      "Epoch:   16/30    Loss: 3.245987739562988\n",
      "\n",
      "Epoch:   16/30    Loss: 3.2438506717681883\n",
      "\n",
      "Epoch:   16/30    Loss: 3.274187171459198\n",
      "\n",
      "Epoch:   16/30    Loss: 3.2636441173553465\n",
      "\n",
      "Epoch:   16/30    Loss: 3.2733189687728883\n",
      "\n",
      "Epoch:   16/30    Loss: 3.278289123058319\n",
      "\n"
     ]
    },
    {
     "name": "stderr",
     "output_type": "stream",
     "text": [
      " 53%|█████▎    | 16/30 [3:51:06<3:22:46, 869.02s/it]"
     ]
    },
    {
     "name": "stdout",
     "output_type": "stream",
     "text": [
      "Epoch:   17/30    Loss: 3.223654128695666\n",
      "\n",
      "Epoch:   17/30    Loss: 3.174617355823517\n",
      "\n",
      "Epoch:   17/30    Loss: 3.1818737053871153\n",
      "\n",
      "Epoch:   17/30    Loss: 3.2046071085929873\n",
      "\n",
      "Epoch:   17/30    Loss: 3.1813300862312315\n",
      "\n",
      "Epoch:   17/30    Loss: 3.206632870197296\n",
      "\n",
      "Epoch:   17/30    Loss: 3.209392825126648\n",
      "\n",
      "Epoch:   17/30    Loss: 3.2129895806312563\n",
      "\n",
      "Epoch:   17/30    Loss: 3.238340658664703\n",
      "\n",
      "Epoch:   17/30    Loss: 3.246426833629608\n",
      "\n",
      "Epoch:   17/30    Loss: 3.2456010794639587\n",
      "\n",
      "Epoch:   17/30    Loss: 3.24565242433548\n",
      "\n",
      "Epoch:   17/30    Loss: 3.2693911228179933\n",
      "\n"
     ]
    }
   ],
   "source": [
    "\"\"\"\n",
    "DON'T MODIFY ANYTHING IN THIS CELL\n",
    "\"\"\"\n",
    "\n",
    "# create model and move to gpu if available\n",
    "rnn = RNN(vocab_size, output_size, embedding_dim, hidden_dim, n_layers, dropout=0.5)\n",
    "if train_on_gpu:\n",
    "    rnn.cuda()\n",
    "\n",
    "# defining loss and optimization functions for training\n",
    "optimizer = torch.optim.Adam(rnn.parameters(), lr=learning_rate)\n",
    "criterion = nn.CrossEntropyLoss()\n",
    "\n",
    "# training the model\n",
    "with active_session():\n",
    "    trained_rnn = train_rnn(rnn, batch_size, optimizer, criterion, num_epochs, show_every_n_batches)\n",
    "\n",
    "# saving the trained model\n",
    "helper.save_model('./save/trained_rnn', trained_rnn)\n",
    "print('Model Trained and Saved')"
   ]
  },
  {
   "cell_type": "code",
   "execution_count": 27,
   "metadata": {},
   "outputs": [
    {
     "name": "stdout",
     "output_type": "stream",
     "text": [
      "data\t\t\t\t    helper.py\t\t  __pycache__\r\n",
      "dlnd_tv_script_generation.ipynb     preprocess.p\t  trained_rnn.pt\r\n",
      "dlnd_tv_script_generation-zh.ipynb  problem_unittests.py  workspace_utils.py\r\n"
     ]
    }
   ],
   "source": [
    "!ls"
   ]
  },
  {
   "cell_type": "markdown",
   "metadata": {},
   "source": [
    "### Question: How did you decide on your model hyperparameters? \n",
    "For example, did you try different sequence_lengths and find that one size made the model converge faster? What about your hidden_dim and n_layers; how did you decide on those?"
   ]
  },
  {
   "cell_type": "markdown",
   "metadata": {},
   "source": [
    "**Answer:** (Write answer, here)\n",
    "\n",
    "I tried to have all parameters as multiples of 2. Primary hyper parameter that helped make the model converge faster was the learning rate - reduced it to 0.0005 instead of 0.001 and 0.005. Additionally tried with models with 512 embed and 512 hidden dims and it took almost 1.5 times more estimating around 12 hours and with my limited compute time wouldnt be able to complete. I kept batch size to 128 so that I will be able to try our more complex models. Understood from the lectures that going more than 3 layers wouldnt add much value. I got loss ~3.5 with 20 epochs with model with 512 embed layer, the convergence in 256 was slightly quicker. My computer turned off while running the model so had to reconnect. final loss after 31(30+1 below) is ~2.9. "
   ]
  },
  {
   "cell_type": "code",
   "execution_count": 34,
   "metadata": {},
   "outputs": [
    {
     "name": "stderr",
     "output_type": "stream",
     "text": [
      "  0%|          | 0/1 [00:00<?, ?it/s]"
     ]
    },
    {
     "name": "stdout",
     "output_type": "stream",
     "text": [
      "Training for 1 epoch(s)...\n",
      "Epoch:    1/1     Loss: 2.962954560756683\n",
      "\n",
      "Epoch:    1/1     Loss: 2.9477477502822875\n",
      "\n",
      "Epoch:    1/1     Loss: 2.9609110922813415\n",
      "\n",
      "Epoch:    1/1     Loss: 2.9890257859230043\n",
      "\n",
      "Epoch:    1/1     Loss: 3.007437324523926\n",
      "\n",
      "Epoch:    1/1     Loss: 2.9920752000808717\n",
      "\n",
      "Epoch:    1/1     Loss: 3.0080960907936096\n",
      "\n",
      "Epoch:    1/1     Loss: 3.009536564350128\n",
      "\n",
      "Epoch:    1/1     Loss: 3.0125099220275877\n",
      "\n",
      "Epoch:    1/1     Loss: 3.0309117560386656\n",
      "\n",
      "Epoch:    1/1     Loss: 3.031012731075287\n",
      "\n",
      "Epoch:    1/1     Loss: 3.057153111934662\n",
      "\n",
      "Epoch:    1/1     Loss: 3.0476337571144105\n",
      "\n"
     ]
    },
    {
     "name": "stderr",
     "output_type": "stream",
     "text": [
      "100%|██████████| 1/1 [14:14<00:00, 854.13s/it]\n"
     ]
    }
   ],
   "source": [
    "with active_session():\n",
    "    trained_rnn = train_rnn(rnn, batch_size, optimizer, criterion, 1, show_every_n_batches)"
   ]
  },
  {
   "cell_type": "markdown",
   "metadata": {},
   "source": [
    "---\n",
    "# Checkpoint\n",
    "\n",
    "After running the above training cell, your model will be saved by name, `trained_rnn`, and if you save your notebook progress, **you can pause here and come back to this code at another time**. You can resume your progress by running the next cell, which will load in our word:id dictionaries _and_ load in your saved model by name!"
   ]
  },
  {
   "cell_type": "code",
   "execution_count": 30,
   "metadata": {},
   "outputs": [],
   "source": [
    "\"\"\"\n",
    "DON'T MODIFY ANYTHING IN THIS CELL\n",
    "\"\"\"\n",
    "import torch\n",
    "import helper\n",
    "import problem_unittests as tests\n",
    "\n",
    "_, vocab_to_int, int_to_vocab, token_dict = helper.load_preprocess()\n",
    "trained_rnn = helper.load_model('./save/trained_rnn')"
   ]
  },
  {
   "cell_type": "markdown",
   "metadata": {},
   "source": [
    "## Generate TV Script\n",
    "With the network trained and saved, you'll use it to generate a new, \"fake\" Seinfeld TV script in this section.\n",
    "\n",
    "### Generate Text\n",
    "To generate the text, the network needs to start with a single word and repeat its predictions until it reaches a set length. You'll be using the `generate` function to do this. It takes a word id to start with, `prime_id`, and generates a set length of text, `predict_len`. Also note that it uses topk sampling to introduce some randomness in choosing the most likely next word, given an output set of word scores!"
   ]
  },
  {
   "cell_type": "code",
   "execution_count": 31,
   "metadata": {},
   "outputs": [],
   "source": [
    "\"\"\"\n",
    "DON'T MODIFY ANYTHING IN THIS CELL THAT IS BELOW THIS LINE\n",
    "\"\"\"\n",
    "import torch.nn.functional as F\n",
    "\n",
    "def generate(rnn, prime_id, int_to_vocab, token_dict, pad_value, predict_len=100):\n",
    "    \"\"\"\n",
    "    Generate text using the neural network\n",
    "    :param decoder: The PyTorch Module that holds the trained neural network\n",
    "    :param prime_id: The word id to start the first prediction\n",
    "    :param int_to_vocab: Dict of word id keys to word values\n",
    "    :param token_dict: Dict of puncuation tokens keys to puncuation values\n",
    "    :param pad_value: The value used to pad a sequence\n",
    "    :param predict_len: The length of text to generate\n",
    "    :return: The generated text\n",
    "    \"\"\"\n",
    "    rnn.eval()\n",
    "    \n",
    "    # create a sequence (batch_size=1) with the prime_id\n",
    "    current_seq = np.full((1, sequence_length), pad_value)\n",
    "    current_seq[-1][-1] = prime_id\n",
    "    predicted = [int_to_vocab[prime_id]]\n",
    "    \n",
    "    for _ in range(predict_len):\n",
    "        if train_on_gpu:\n",
    "            current_seq = torch.LongTensor(current_seq).cuda()\n",
    "        else:\n",
    "            current_seq = torch.LongTensor(current_seq)\n",
    "        \n",
    "        # initialize the hidden state\n",
    "        hidden = rnn.init_hidden(current_seq.size(0))\n",
    "        \n",
    "        # get the output of the rnn\n",
    "        output, _ = rnn(current_seq, hidden)\n",
    "        \n",
    "        # get the next word probabilities\n",
    "        p = F.softmax(output, dim=1).data\n",
    "        if(train_on_gpu):\n",
    "            p = p.cpu() # move to cpu\n",
    "         \n",
    "        # use top_k sampling to get the index of the next word\n",
    "        top_k = 5\n",
    "        p, top_i = p.topk(top_k)\n",
    "        top_i = top_i.numpy().squeeze()\n",
    "        \n",
    "        # select the likely next word index with some element of randomness\n",
    "        p = p.numpy().squeeze()\n",
    "        word_i = np.random.choice(top_i, p=p/p.sum())\n",
    "        \n",
    "        # retrieve that word from the dictionary\n",
    "        word = int_to_vocab[word_i]\n",
    "        predicted.append(word)     \n",
    "        \n",
    "        # the generated word becomes the next \"current sequence\" and the cycle can continue\n",
    "        current_seq = np.roll(current_seq, -1, 1)\n",
    "        current_seq[-1][-1] = word_i\n",
    "    \n",
    "    gen_sentences = ' '.join(predicted)\n",
    "    \n",
    "    # Replace punctuation tokens\n",
    "    for key, token in token_dict.items():\n",
    "        ending = ' ' if key in ['\\n', '(', '\"'] else ''\n",
    "        gen_sentences = gen_sentences.replace(' ' + token.lower(), key)\n",
    "    gen_sentences = gen_sentences.replace('\\n ', '\\n')\n",
    "    gen_sentences = gen_sentences.replace('( ', '(')\n",
    "    \n",
    "    # return all the sentences\n",
    "    return gen_sentences"
   ]
  },
  {
   "cell_type": "markdown",
   "metadata": {},
   "source": [
    "### Generate a New Script\n",
    "It's time to generate the text. Set `gen_length` to the length of TV script you want to generate and set `prime_word` to one of the following to start the prediction:\n",
    "- \"jerry\"\n",
    "- \"elaine\"\n",
    "- \"george\"\n",
    "- \"kramer\"\n",
    "\n",
    "You can set the prime word to _any word_ in our dictionary, but it's best to start with a name for generating a TV script. (You can also start with any other names you find in the original text file!)"
   ]
  },
  {
   "cell_type": "code",
   "execution_count": 35,
   "metadata": {},
   "outputs": [
    {
     "name": "stdout",
     "output_type": "stream",
     "text": [
      "jerry: over.\n",
      "\n",
      "george:(pause) well, i was a very nervous electronics. i don't know if you can do that.\n",
      "\n",
      "jerry: oh, no...\n",
      "\n",
      "elaine: no, i don't have to do anything.\n",
      "\n",
      "elaine: oh!\n",
      "\n",
      "jerry: you got a date?\n",
      "\n",
      "kramer: no, i don't want it.\n",
      "\n",
      "jerry: i don't know, but i don't have a massage.\n",
      "\n",
      "george: what are you talking about?\n",
      "\n",
      "jerry: i think it's dutch. i was thinking about it, so i can't stand out of the way to the end of the night.\n",
      "\n",
      "elaine: i don't know, maybe i was gonna get it out, i have no idea...\n",
      "\n",
      "george: no, you can't believe that, you know, i can't do that.(kramer is speechless)\n",
      "\n",
      "jerry:(to the phone) what are you doing here, huh?\n",
      "\n",
      "george: oh, no, no, no, no. i got it, and i was thinking of the game. i mean, it's not a big thing i am.(to george) i have to tell you, i don't know.\n",
      "\n",
      "jerry:(jokingly hits his hand) oh, i don't know.(kramer throws his head up and down for the window, and starts to move on).\n",
      "\n",
      "elaine:(to jerry) what do you think?\n",
      "\n",
      "frank: you know what i mean, i was in the shop with the last one in the morning where we are? i can't believe that i was a little nervous.\n",
      "\n",
      "susan: i know, but.\n",
      "\n",
      "jerry: well, you know what? i was thinking, i have a very exciting time.\n",
      "\n",
      "george: well.\n",
      "\n",
      "jerry: you mean, the one who said that is a guy in the pool, he was a fantasy, like the milk, the shelves.\n",
      "\n",
      "elaine: so, i guess she might have to be a good man, and i can't get out of the\n"
     ]
    }
   ],
   "source": [
    "# run the cell multiple times to get different results!\n",
    "gen_length = 400 # modify the length to your preference\n",
    "prime_word = 'jerry' # name for starting the script\n",
    "\n",
    "\"\"\"\n",
    "DON'T MODIFY ANYTHING IN THIS CELL THAT IS BELOW THIS LINE\n",
    "\"\"\"\n",
    "pad_word = helper.SPECIAL_WORDS['PADDING']\n",
    "generated_script = generate(trained_rnn, vocab_to_int[prime_word + ':'], int_to_vocab, token_dict, vocab_to_int[pad_word], gen_length)\n",
    "print(generated_script)"
   ]
  },
  {
   "cell_type": "markdown",
   "metadata": {},
   "source": [
    "#### Save your favorite scripts\n",
    "\n",
    "Once you have a script that you like (or find interesting), save it to a text file!"
   ]
  },
  {
   "cell_type": "code",
   "execution_count": 36,
   "metadata": {},
   "outputs": [],
   "source": [
    "# save script to a text file\n",
    "f =  open(\"generated_script_1.txt\",\"w\")\n",
    "f.write(generated_script)\n",
    "f.close()"
   ]
  },
  {
   "cell_type": "markdown",
   "metadata": {},
   "source": [
    "# The TV Script is Not Perfect\n",
    "It's ok if the TV script doesn't make perfect sense. It should look like alternating lines of dialogue, here is one such example of a few generated lines.\n",
    "\n",
    "### Example generated script\n",
    "\n",
    ">jerry: what about me?\n",
    ">\n",
    ">jerry: i don't have to wait.\n",
    ">\n",
    ">kramer:(to the sales table)\n",
    ">\n",
    ">elaine:(to jerry) hey, look at this, i'm a good doctor.\n",
    ">\n",
    ">newman:(to elaine) you think i have no idea of this...\n",
    ">\n",
    ">elaine: oh, you better take the phone, and he was a little nervous.\n",
    ">\n",
    ">kramer:(to the phone) hey, hey, jerry, i don't want to be a little bit.(to kramer and jerry) you can't.\n",
    ">\n",
    ">jerry: oh, yeah. i don't even know, i know.\n",
    ">\n",
    ">jerry:(to the phone) oh, i know.\n",
    ">\n",
    ">kramer:(laughing) you know...(to jerry) you don't know.\n",
    "\n",
    "You can see that there are multiple characters that say (somewhat) complete sentences, but it doesn't have to be perfect! It takes quite a while to get good results, and often, you'll have to use a smaller vocabulary (and discard uncommon words), or get more data.  The Seinfeld dataset is about 3.4 MB, which is big enough for our purposes; for script generation you'll want more than 1 MB of text, generally. \n",
    "\n",
    "# Submitting This Project\n",
    "When submitting this project, make sure to run all the cells before saving the notebook. Save the notebook file as \"dlnd_tv_script_generation.ipynb\" and save another copy as an HTML file by clicking \"File\" -> \"Download as..\"->\"html\". Include the \"helper.py\" and \"problem_unittests.py\" files in your submission. Once you download these files, compress them into one zip file for submission."
   ]
  },
  {
   "cell_type": "code",
   "execution_count": null,
   "metadata": {},
   "outputs": [],
   "source": []
  }
 ],
 "metadata": {
  "kernelspec": {
   "display_name": "Python 3",
   "language": "python",
   "name": "python3"
  },
  "language_info": {
   "codemirror_mode": {
    "name": "ipython",
    "version": 3
   },
   "file_extension": ".py",
   "mimetype": "text/x-python",
   "name": "python",
   "nbconvert_exporter": "python",
   "pygments_lexer": "ipython3",
   "version": "3.6.3"
  },
  "widgets": {
   "state": {},
   "version": "1.1.2"
  }
 },
 "nbformat": 4,
 "nbformat_minor": 1
}
